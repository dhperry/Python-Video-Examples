{
 "cells": [
  {
   "cell_type": "code",
   "id": "initial_id",
   "metadata": {
    "collapsed": true,
    "ExecuteTime": {
     "end_time": "2025-10-29T15:03:19.470900Z",
     "start_time": "2025-10-29T15:03:19.458305Z"
    }
   },
   "source": [
    "from prompt_toolkit.key_binding.bindings.named_commands import backward_kill_word\n",
    "\n",
    "print(25)\n",
    "print(-55)\n",
    "print(123456789123456789)"
   ],
   "outputs": [
    {
     "name": "stdout",
     "output_type": "stream",
     "text": [
      "25\n",
      "-55\n",
      "123456789123456789\n"
     ]
    }
   ],
   "execution_count": 1
  },
  {
   "metadata": {
    "ExecuteTime": {
     "end_time": "2025-10-29T15:05:10.871258Z",
     "start_time": "2025-10-29T15:05:10.863674Z"
    }
   },
   "cell_type": "code",
   "source": [
    "print(5.5)\n",
    "print(-63.1)\n",
    "print(12358.14789)\n",
    "print(1.25e33)\n"
   ],
   "id": "d4c2acacf6e5c968",
   "outputs": [
    {
     "name": "stdout",
     "output_type": "stream",
     "text": [
      "5.5\n",
      "-63.1\n",
      "12358.14789\n",
      "1.25e+33\n"
     ]
    }
   ],
   "execution_count": 3
  },
  {
   "metadata": {
    "ExecuteTime": {
     "end_time": "2025-10-29T15:06:54.730334Z",
     "start_time": "2025-10-29T15:06:54.723635Z"
    }
   },
   "cell_type": "code",
   "source": [
    "print('This is python')\n",
    "print('We are having a good time')\n",
    "print(\"Not much of a cheese shop\")"
   ],
   "id": "5b896f94ecf0e287",
   "outputs": [
    {
     "name": "stdout",
     "output_type": "stream",
     "text": [
      "This is python\n",
      "We are having a good time\n",
      "Not much of a cheese shop\n"
     ]
    }
   ],
   "execution_count": 4
  },
  {
   "metadata": {
    "ExecuteTime": {
     "end_time": "2025-10-29T15:12:03.049564Z",
     "start_time": "2025-10-29T15:12:03.039007Z"
    }
   },
   "cell_type": "code",
   "source": "print([3, 5, 5.2, 'Bill'])",
   "id": "d6423fe9740546bf",
   "outputs": [
    {
     "name": "stdout",
     "output_type": "stream",
     "text": [
      "[3, 5, 5.2, 'Bill']\n"
     ]
    }
   ],
   "execution_count": 6
  },
  {
   "metadata": {
    "ExecuteTime": {
     "end_time": "2025-10-29T15:12:05.886441Z",
     "start_time": "2025-10-29T15:12:05.877518Z"
    }
   },
   "cell_type": "code",
   "source": "print((4, 5.6, 'Jane'))",
   "id": "82b390c57c7dd4ff",
   "outputs": [
    {
     "name": "stdout",
     "output_type": "stream",
     "text": [
      "(4, 5.6, 'Jane')\n"
     ]
    }
   ],
   "execution_count": 7
  },
  {
   "metadata": {
    "ExecuteTime": {
     "end_time": "2025-10-29T15:13:36.446489Z",
     "start_time": "2025-10-29T15:13:36.432528Z"
    }
   },
   "cell_type": "code",
   "source": "print({'name': 'Cindy', 'age': 23})",
   "id": "7a02396c9b536319",
   "outputs": [
    {
     "name": "stdout",
     "output_type": "stream",
     "text": [
      "{'name': 'Cindy', 'age': 23}\n"
     ]
    }
   ],
   "execution_count": 8
  },
  {
   "metadata": {
    "ExecuteTime": {
     "end_time": "2025-10-29T15:27:44.475680Z",
     "start_time": "2025-10-29T15:27:44.463711Z"
    }
   },
   "cell_type": "code",
   "source": [
    "# Naming variables\n",
    "total = 0 # the total\n",
    "'''Multi\n",
    "line\n",
    "comment'''\n",
    "new_num = 5.5\n",
    "print(new_num)"
   ],
   "id": "b10ab7225ae18cce",
   "outputs": [
    {
     "name": "stdout",
     "output_type": "stream",
     "text": [
      "5.5\n"
     ]
    }
   ],
   "execution_count": 9
  },
  {
   "metadata": {
    "ExecuteTime": {
     "end_time": "2025-10-29T19:26:56.083677Z",
     "start_time": "2025-10-29T19:26:56.063728Z"
    }
   },
   "cell_type": "code",
   "source": [
    "print(5+4)\n",
    "print(7+21)\n",
    "print(-8+12)"
   ],
   "id": "fdd1d23e2a567583",
   "outputs": [
    {
     "name": "stdout",
     "output_type": "stream",
     "text": [
      "9\n",
      "28\n",
      "4\n"
     ]
    }
   ],
   "execution_count": 10
  },
  {
   "metadata": {
    "ExecuteTime": {
     "end_time": "2025-10-29T19:27:37.557792Z",
     "start_time": "2025-10-29T19:27:37.548135Z"
    }
   },
   "cell_type": "code",
   "source": [
    "print(6.5+7.2)\n",
    "print(8.1+9.0)"
   ],
   "id": "fb9b81c1295a88ab",
   "outputs": [
    {
     "name": "stdout",
     "output_type": "stream",
     "text": [
      "13.7\n",
      "17.1\n"
     ]
    }
   ],
   "execution_count": 11
  },
  {
   "metadata": {
    "ExecuteTime": {
     "end_time": "2025-10-29T19:28:32.117444Z",
     "start_time": "2025-10-29T19:28:32.104494Z"
    }
   },
   "cell_type": "code",
   "source": [
    "print(5+6.1)\n",
    "print(8.1+5)"
   ],
   "id": "e57b31524442222b",
   "outputs": [
    {
     "name": "stdout",
     "output_type": "stream",
     "text": [
      "11.1\n",
      "13.1\n"
     ]
    }
   ],
   "execution_count": 12
  },
  {
   "metadata": {
    "ExecuteTime": {
     "end_time": "2025-10-29T19:29:23.192692Z",
     "start_time": "2025-10-29T19:29:23.185924Z"
    }
   },
   "cell_type": "code",
   "source": "print(6+5.1+9.1+12)\n",
   "id": "244b81cf24aa3086",
   "outputs": [
    {
     "name": "stdout",
     "output_type": "stream",
     "text": [
      "32.2\n"
     ]
    }
   ],
   "execution_count": 13
  },
  {
   "metadata": {
    "ExecuteTime": {
     "end_time": "2025-10-29T19:30:40.504257Z",
     "start_time": "2025-10-29T19:30:40.493118Z"
    }
   },
   "cell_type": "code",
   "source": [
    "print(10-5)\n",
    "print(5.5-3.1)\n",
    "print(5-2.1)\n"
   ],
   "id": "b43fbda6881690ef",
   "outputs": [
    {
     "name": "stdout",
     "output_type": "stream",
     "text": [
      "5\n",
      "2.4\n",
      "2.9\n"
     ]
    }
   ],
   "execution_count": 15
  },
  {
   "metadata": {
    "ExecuteTime": {
     "end_time": "2025-10-29T19:31:39.332921Z",
     "start_time": "2025-10-29T19:31:39.320449Z"
    }
   },
   "cell_type": "code",
   "source": [
    "print(5*3)\n",
    "print(7*13.5)\n",
    "print(4*.5)"
   ],
   "id": "b27ba6b1e66fcf54",
   "outputs": [
    {
     "name": "stdout",
     "output_type": "stream",
     "text": [
      "15\n",
      "94.5\n",
      "2.0\n"
     ]
    }
   ],
   "execution_count": 16
  },
  {
   "metadata": {
    "ExecuteTime": {
     "end_time": "2025-10-29T19:32:21.505671Z",
     "start_time": "2025-10-29T19:32:21.491707Z"
    }
   },
   "cell_type": "code",
   "source": [
    "print(10/5)\n",
    "print(10/3)\n",
    "print(8.4/3.4)"
   ],
   "id": "2ae7b379b5939ac8",
   "outputs": [
    {
     "name": "stdout",
     "output_type": "stream",
     "text": [
      "2.0\n",
      "3.3333333333333335\n",
      "2.4705882352941178\n"
     ]
    }
   ],
   "execution_count": 17
  },
  {
   "metadata": {
    "ExecuteTime": {
     "end_time": "2025-10-29T19:38:56.891914Z",
     "start_time": "2025-10-29T19:38:56.883781Z"
    }
   },
   "cell_type": "code",
   "source": [
    "print(5/3)\n",
    "print(5%-3)\n",
    "print(5%3)\n",
    "print(5//3)\n",
    "print(-5//3)"
   ],
   "id": "81d82ea6e436a6c7",
   "outputs": [
    {
     "name": "stdout",
     "output_type": "stream",
     "text": [
      "1.6666666666666667\n",
      "-1\n",
      "2\n",
      "1\n",
      "-2\n"
     ]
    }
   ],
   "execution_count": 21
  },
  {
   "metadata": {
    "ExecuteTime": {
     "end_time": "2025-10-29T19:42:11.258989Z",
     "start_time": "2025-10-29T19:42:11.248620Z"
    }
   },
   "cell_type": "code",
   "source": [
    "print(5**2)\n",
    "print(-5**3)\n",
    "print(5**3)\n",
    "print(4.5**3)\n",
    "print(16**.5)"
   ],
   "id": "a347e194110b6588",
   "outputs": [
    {
     "name": "stdout",
     "output_type": "stream",
     "text": [
      "25\n",
      "-125\n",
      "125\n",
      "91.125\n",
      "4.0\n"
     ]
    }
   ],
   "execution_count": 26
  },
  {
   "metadata": {
    "ExecuteTime": {
     "end_time": "2025-10-29T19:47:01.501785Z",
     "start_time": "2025-10-29T19:47:01.495079Z"
    }
   },
   "cell_type": "code",
   "source": [
    "print(5+5*5)\n",
    "print(8*2+9*3+4+4)\n",
    "print(8*(2+5))\n",
    "print(8.1*(5.5+7))\n",
    "print(7/2+5)"
   ],
   "id": "fba1bd031b01a1ee",
   "outputs": [
    {
     "name": "stdout",
     "output_type": "stream",
     "text": [
      "30\n",
      "51\n",
      "56\n",
      "101.25\n",
      "8.5\n"
     ]
    }
   ],
   "execution_count": 31
  },
  {
   "metadata": {
    "ExecuteTime": {
     "end_time": "2025-10-29T21:03:35.549202Z",
     "start_time": "2025-10-29T21:03:35.535666Z"
    }
   },
   "cell_type": "code",
   "source": "print(.1+.2)\n",
   "id": "83335a43a4cd1047",
   "outputs": [
    {
     "name": "stdout",
     "output_type": "stream",
     "text": [
      "0.30000000000000004\n"
     ]
    }
   ],
   "execution_count": 33
  },
  {
   "metadata": {
    "ExecuteTime": {
     "end_time": "2025-10-29T21:06:30.464915Z",
     "start_time": "2025-10-29T21:06:30.454283Z"
    }
   },
   "cell_type": "code",
   "source": [
    "total = 0\n",
    "sum = 3+5\n",
    "sum = sum +5\n",
    "print(total)\n",
    "print(sum)"
   ],
   "id": "f62023697167c38c",
   "outputs": [
    {
     "name": "stdout",
     "output_type": "stream",
     "text": [
      "0\n",
      "13\n"
     ]
    }
   ],
   "execution_count": 35
  },
  {
   "metadata": {
    "ExecuteTime": {
     "end_time": "2025-10-30T11:51:33.536789Z",
     "start_time": "2025-10-30T11:51:33.529839Z"
    }
   },
   "cell_type": "code",
   "source": [
    "print('Print a string')\n",
    "print(5.5)\n",
    "print('Number',5.5)"
   ],
   "id": "508796f35d536f4b",
   "outputs": [
    {
     "name": "stdout",
     "output_type": "stream",
     "text": [
      "Print a string\n",
      "5.5\n",
      "Number 5.5\n"
     ]
    }
   ],
   "execution_count": 38
  },
  {
   "metadata": {
    "ExecuteTime": {
     "end_time": "2025-10-30T11:52:20.767386Z",
     "start_time": "2025-10-30T11:52:20.758854Z"
    }
   },
   "cell_type": "code",
   "source": [
    "x = 'Hello'\n",
    "y = 42\n",
    "print(x,y)"
   ],
   "id": "857a25993fe4c3e7",
   "outputs": [
    {
     "name": "stdout",
     "output_type": "stream",
     "text": [
      "Hello 42\n"
     ]
    }
   ],
   "execution_count": 39
  },
  {
   "metadata": {
    "ExecuteTime": {
     "end_time": "2025-10-30T11:54:17.818484Z",
     "start_time": "2025-10-30T11:54:17.523697Z"
    }
   },
   "cell_type": "code",
   "source": [
    "print('hello'+'world')\n",
    "print('hello '+'world')\n",
    "print('hello'+' '+'world')\n",
    "print(24+'hello')"
   ],
   "id": "5bde52f5aee5ff38",
   "outputs": [
    {
     "name": "stdout",
     "output_type": "stream",
     "text": [
      "helloworld\n",
      "hello world\n",
      "hello world\n"
     ]
    },
    {
     "ename": "TypeError",
     "evalue": "unsupported operand type(s) for +: 'int' and 'str'",
     "output_type": "error",
     "traceback": [
      "\u001B[1;31m---------------------------------------------------------------------------\u001B[0m",
      "\u001B[1;31mTypeError\u001B[0m                                 Traceback (most recent call last)",
      "Cell \u001B[1;32mIn[42], line 4\u001B[0m\n\u001B[0;32m      2\u001B[0m \u001B[38;5;28mprint\u001B[39m(\u001B[38;5;124m'\u001B[39m\u001B[38;5;124mhello \u001B[39m\u001B[38;5;124m'\u001B[39m\u001B[38;5;241m+\u001B[39m\u001B[38;5;124m'\u001B[39m\u001B[38;5;124mworld\u001B[39m\u001B[38;5;124m'\u001B[39m)\n\u001B[0;32m      3\u001B[0m \u001B[38;5;28mprint\u001B[39m(\u001B[38;5;124m'\u001B[39m\u001B[38;5;124mhello\u001B[39m\u001B[38;5;124m'\u001B[39m\u001B[38;5;241m+\u001B[39m\u001B[38;5;124m'\u001B[39m\u001B[38;5;124m \u001B[39m\u001B[38;5;124m'\u001B[39m\u001B[38;5;241m+\u001B[39m\u001B[38;5;124m'\u001B[39m\u001B[38;5;124mworld\u001B[39m\u001B[38;5;124m'\u001B[39m)\n\u001B[1;32m----> 4\u001B[0m \u001B[38;5;28mprint\u001B[39m(\u001B[38;5;241;43m24\u001B[39;49m\u001B[38;5;241;43m+\u001B[39;49m\u001B[38;5;124;43m'\u001B[39;49m\u001B[38;5;124;43mhello\u001B[39;49m\u001B[38;5;124;43m'\u001B[39;49m)\n",
      "\u001B[1;31mTypeError\u001B[0m: unsupported operand type(s) for +: 'int' and 'str'"
     ]
    }
   ],
   "execution_count": 42
  },
  {
   "metadata": {
    "ExecuteTime": {
     "end_time": "2025-10-30T12:01:20.100986Z",
     "start_time": "2025-10-30T12:00:59.633917Z"
    }
   },
   "cell_type": "code",
   "source": [
    "name = input()\n",
    "print(name)\n"
   ],
   "id": "886ccd66d79afec2",
   "outputs": [
    {
     "name": "stdout",
     "output_type": "stream",
     "text": [
      "Bob\n",
      "\n"
     ]
    }
   ],
   "execution_count": 45
  },
  {
   "metadata": {
    "ExecuteTime": {
     "end_time": "2025-10-30T12:03:33.793885Z",
     "start_time": "2025-10-30T12:03:22.124471Z"
    }
   },
   "cell_type": "code",
   "source": [
    "name = input('Enter a name:')\n",
    "print(name)"
   ],
   "id": "27c728de80ab0c4b",
   "outputs": [
    {
     "name": "stdout",
     "output_type": "stream",
     "text": [
      "Mary\n"
     ]
    }
   ],
   "execution_count": 46
  },
  {
   "metadata": {
    "ExecuteTime": {
     "end_time": "2025-10-30T12:10:56.062002Z",
     "start_time": "2025-10-30T12:10:56.051617Z"
    }
   },
   "cell_type": "code",
   "source": [
    "st = 'Hello there'\n",
    "print(st)\n",
    "print(st.upper())\n",
    "print(st)\n",
    "st = st.upper()\n",
    "print(st)"
   ],
   "id": "5e257d1d2c7a74f1",
   "outputs": [
    {
     "name": "stdout",
     "output_type": "stream",
     "text": [
      "Hello there\n",
      "HELLO THERE\n",
      "Hello there\n",
      "HELLO THERE\n"
     ]
    }
   ],
   "execution_count": 49
  },
  {
   "metadata": {
    "ExecuteTime": {
     "end_time": "2025-10-30T12:14:27.376722Z",
     "start_time": "2025-10-30T12:14:27.365531Z"
    }
   },
   "cell_type": "code",
   "source": [
    "print(len('This is a string'))\n",
    "st = 'Another string'\n",
    "print(len(st))\n",
    "st = 'This is another string'\n",
    "l = len(st)\n",
    "print(l)\n"
   ],
   "id": "37c0d4cdd98597b9",
   "outputs": [
    {
     "name": "stdout",
     "output_type": "stream",
     "text": [
      "16\n",
      "14\n",
      "22\n"
     ]
    }
   ],
   "execution_count": 52
  },
  {
   "metadata": {
    "ExecuteTime": {
     "end_time": "2025-10-30T15:35:10.790657Z",
     "start_time": "2025-10-30T15:35:10.777289Z"
    }
   },
   "cell_type": "code",
   "source": [
    "st = 'This IS a string'\n",
    "st1 = '   a string with spaces  '\n",
    "print(st.lower())\n",
    "print(st1.lower())\n",
    "print(st.capitalize())\n",
    "print(st1.capitalize())\n",
    "print(st.title())\n",
    "print(st1.title())\n",
    "print(st)\n",
    "st2 = st.lower()\n",
    "print(st2)\n"
   ],
   "id": "f429d1d0a03be1c9",
   "outputs": [
    {
     "name": "stdout",
     "output_type": "stream",
     "text": [
      "this is a string\n",
      "   a string with spaces  \n",
      "This is a string\n",
      "   a string with spaces  \n",
      "This Is A String\n",
      "   A String With Spaces  \n",
      "This IS a string\n",
      "this is a string\n"
     ]
    }
   ],
   "execution_count": 59
  },
  {
   "metadata": {
    "ExecuteTime": {
     "end_time": "2025-10-30T15:44:26.590498Z",
     "start_time": "2025-10-30T15:44:26.575501Z"
    }
   },
   "cell_type": "code",
   "source": [
    "st1 = '      a string with spaces       '\n",
    "print('x'+st1+'x')\n",
    "st2 = st1.strip()\n",
    "print('x'+st2+'x')\n",
    "st2 = st1.lstrip()\n",
    "print('x'+st2+'x')\n",
    "st2 = st1.rstrip()\n",
    "print('x'+st2+'x')"
   ],
   "id": "4e3f979cbcf45f8d",
   "outputs": [
    {
     "name": "stdout",
     "output_type": "stream",
     "text": [
      "x      a string with spaces       x\n",
      "xa string with spacesx\n",
      "xa string with spaces       x\n",
      "x      a string with spacesx\n"
     ]
    }
   ],
   "execution_count": 65
  },
  {
   "metadata": {
    "ExecuteTime": {
     "end_time": "2025-10-30T16:45:23.164649Z",
     "start_time": "2025-10-30T16:45:23.111767Z"
    }
   },
   "cell_type": "code",
   "source": [
    "sp = 'Spam spam spam spam spam spam'\n",
    "print(sp.count('spam'))\n",
    "print(sp.find('spam'))\n",
    "print(sp.rfind('spam'))\n",
    "print(sp.find('spam',11))\n",
    "print(sp.count('spam',11))\n",
    "print(sp.find('spam',11,20))\n",
    "print(sp.index('sam'))\n"
   ],
   "id": "f9894f07c637527d",
   "outputs": [
    {
     "name": "stdout",
     "output_type": "stream",
     "text": [
      "5\n",
      "5\n",
      "25\n",
      "15\n",
      "3\n",
      "15\n"
     ]
    },
    {
     "ename": "ValueError",
     "evalue": "substring not found",
     "output_type": "error",
     "traceback": [
      "\u001B[1;31m---------------------------------------------------------------------------\u001B[0m",
      "\u001B[1;31mValueError\u001B[0m                                Traceback (most recent call last)",
      "Cell \u001B[1;32mIn[91], line 8\u001B[0m\n\u001B[0;32m      6\u001B[0m \u001B[38;5;28mprint\u001B[39m(sp\u001B[38;5;241m.\u001B[39mcount(\u001B[38;5;124m'\u001B[39m\u001B[38;5;124mspam\u001B[39m\u001B[38;5;124m'\u001B[39m,\u001B[38;5;241m11\u001B[39m))\n\u001B[0;32m      7\u001B[0m \u001B[38;5;28mprint\u001B[39m(sp\u001B[38;5;241m.\u001B[39mfind(\u001B[38;5;124m'\u001B[39m\u001B[38;5;124mspam\u001B[39m\u001B[38;5;124m'\u001B[39m,\u001B[38;5;241m11\u001B[39m,\u001B[38;5;241m20\u001B[39m))\n\u001B[1;32m----> 8\u001B[0m \u001B[38;5;28mprint\u001B[39m(\u001B[43msp\u001B[49m\u001B[38;5;241;43m.\u001B[39;49m\u001B[43mindex\u001B[49m\u001B[43m(\u001B[49m\u001B[38;5;124;43m'\u001B[39;49m\u001B[38;5;124;43msam\u001B[39;49m\u001B[38;5;124;43m'\u001B[39;49m\u001B[43m)\u001B[49m)\n",
      "\u001B[1;31mValueError\u001B[0m: substring not found"
     ]
    }
   ],
   "execution_count": 91
  },
  {
   "metadata": {
    "ExecuteTime": {
     "end_time": "2025-10-30T17:06:53.828342Z",
     "start_time": "2025-10-30T17:06:53.812076Z"
    }
   },
   "cell_type": "code",
   "source": [
    "sp = 'Spam spam eggs spam spam spam'\n",
    "print(sp.replace('Spam','eggs'))\n",
    "print(sp.replace('spam','eggs',2))\n",
    "st = 'This is a string'\n",
    "print(st.replace('is','was'))\n",
    "print(st.replace(' is ',' was '))\n"
   ],
   "id": "2ff859a2898a004b",
   "outputs": [
    {
     "name": "stdout",
     "output_type": "stream",
     "text": [
      "eggs spam eggs spam spam spam\n",
      "Spam eggs eggs eggs spam spam\n",
      "Thwas was a string\n",
      "This was a string\n"
     ]
    }
   ],
   "execution_count": 100
  },
  {
   "metadata": {
    "ExecuteTime": {
     "end_time": "2025-10-30T17:13:19.793383Z",
     "start_time": "2025-10-30T17:13:19.771057Z"
    }
   },
   "cell_type": "code",
   "source": [
    "sp = 'Spam spam spam spam spam spam'\n",
    "print(sp.split(' '))\n",
    "l1 = ['Spam', 'spam', 'spam', 'spam', 'spam', 'spam']\n",
    "redo the split"
   ],
   "id": "fb68b7b043c3dc9a",
   "outputs": [
    {
     "name": "stdout",
     "output_type": "stream",
     "text": [
      "['Spam', 'spam', 'spam', 'spam', 'spam', 'spam']\n"
     ]
    },
    {
     "ename": "AttributeError",
     "evalue": "'list' object has no attribute 'join'",
     "output_type": "error",
     "traceback": [
      "\u001B[1;31m---------------------------------------------------------------------------\u001B[0m",
      "\u001B[1;31mAttributeError\u001B[0m                            Traceback (most recent call last)",
      "Cell \u001B[1;32mIn[107], line 4\u001B[0m\n\u001B[0;32m      2\u001B[0m \u001B[38;5;28mprint\u001B[39m(sp\u001B[38;5;241m.\u001B[39msplit(\u001B[38;5;124m'\u001B[39m\u001B[38;5;124m \u001B[39m\u001B[38;5;124m'\u001B[39m))\n\u001B[0;32m      3\u001B[0m l1 \u001B[38;5;241m=\u001B[39m [\u001B[38;5;124m'\u001B[39m\u001B[38;5;124mSpam\u001B[39m\u001B[38;5;124m'\u001B[39m, \u001B[38;5;124m'\u001B[39m\u001B[38;5;124mspam\u001B[39m\u001B[38;5;124m'\u001B[39m, \u001B[38;5;124m'\u001B[39m\u001B[38;5;124mspam\u001B[39m\u001B[38;5;124m'\u001B[39m, \u001B[38;5;124m'\u001B[39m\u001B[38;5;124mspam\u001B[39m\u001B[38;5;124m'\u001B[39m, \u001B[38;5;124m'\u001B[39m\u001B[38;5;124mspam\u001B[39m\u001B[38;5;124m'\u001B[39m, \u001B[38;5;124m'\u001B[39m\u001B[38;5;124mspam\u001B[39m\u001B[38;5;124m'\u001B[39m]\n\u001B[1;32m----> 4\u001B[0m \u001B[38;5;28mprint\u001B[39m(\u001B[43ml1\u001B[49m\u001B[38;5;241;43m.\u001B[39;49m\u001B[43mjoin\u001B[49m())\n",
      "\u001B[1;31mAttributeError\u001B[0m: 'list' object has no attribute 'join'"
     ]
    }
   ],
   "execution_count": 107
  }
 ],
 "metadata": {
  "kernelspec": {
   "display_name": "Python 3",
   "language": "python",
   "name": "python3"
  },
  "language_info": {
   "codemirror_mode": {
    "name": "ipython",
    "version": 2
   },
   "file_extension": ".py",
   "mimetype": "text/x-python",
   "name": "python",
   "nbconvert_exporter": "python",
   "pygments_lexer": "ipython2",
   "version": "2.7.6"
  }
 },
 "nbformat": 4,
 "nbformat_minor": 5
}
